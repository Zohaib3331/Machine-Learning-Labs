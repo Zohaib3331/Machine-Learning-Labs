{
 "cells": [
  {
   "cell_type": "code",
   "execution_count": 3,
   "id": "8597564a",
   "metadata": {},
   "outputs": [],
   "source": [
    "import pandas as pd\n",
    "import numpy as np\n",
    "#from dataprep.datasets import load_dataset   # Used to import / load dataset\n",
    "#from dataprep.eda import create_report   # Used to load Report formate"
   ]
  },
  {
   "cell_type": "code",
   "execution_count": null,
   "id": "1965cb02",
   "metadata": {},
   "outputs": [],
   "source": [
    "df=pd.read_csv(r'C:\\Users\\imran\\Desktop\\8th Semester\\5_features_extracted.csv', index_col=['Datetime'], parse_dates=['Datetime'])\n",
    "df.head()"
   ]
  },
  {
   "cell_type": "code",
   "execution_count": null,
   "id": "4a6ad301",
   "metadata": {},
   "outputs": [],
   "source": [
    "print('pearson\\n\\n',df.corrwith(df[\"aep\"],method=\"pearson\"))"
   ]
  },
  {
   "cell_type": "code",
   "execution_count": null,
   "id": "a025b2e4",
   "metadata": {},
   "outputs": [],
   "source": [
    "print('kendall\\n\\n',df.corrwith(df[\"aep\"],method=\"kendall\"))"
   ]
  },
  {
   "cell_type": "code",
   "execution_count": null,
   "id": "e28c4850",
   "metadata": {},
   "outputs": [],
   "source": [
    "print('spearman\\n\\n',df.corrwith(df[\"aep\"],method=\"spearman\"))"
   ]
  },
  {
   "cell_type": "code",
   "execution_count": null,
   "id": "e8cf7297",
   "metadata": {},
   "outputs": [],
   "source": [
    "df.isnull().sum()"
   ]
  },
  {
   "cell_type": "code",
   "execution_count": null,
   "id": "a6841a0b",
   "metadata": {},
   "outputs": [],
   "source": []
  },
  {
   "cell_type": "code",
   "execution_count": null,
   "id": "329664c6-e2c0-4c67-a5d7-dc5169df92e9",
   "metadata": {},
   "outputs": [],
   "source": []
  },
  {
   "cell_type": "code",
   "execution_count": null,
   "id": "dbd53658-6e61-4f0f-aa80-a82b0c8faf38",
   "metadata": {},
   "outputs": [],
   "source": []
  },
  {
   "cell_type": "code",
   "execution_count": null,
   "id": "e7d59b53-cd8f-4e61-bcf9-3597218409ba",
   "metadata": {},
   "outputs": [],
   "source": []
  },
  {
   "cell_type": "code",
   "execution_count": null,
   "id": "b8affebc-d020-4acd-abe8-3dcf576c0669",
   "metadata": {},
   "outputs": [],
   "source": []
  }
 ],
 "metadata": {
  "kernelspec": {
   "display_name": "Python [conda env:ZohaibLabs]",
   "language": "python",
   "name": "conda-env-ZohaibLabs-py"
  },
  "language_info": {
   "codemirror_mode": {
    "name": "ipython",
    "version": 3
   },
   "file_extension": ".py",
   "mimetype": "text/x-python",
   "name": "python",
   "nbconvert_exporter": "python",
   "pygments_lexer": "ipython3",
   "version": "3.7.16"
  }
 },
 "nbformat": 4,
 "nbformat_minor": 5
}
